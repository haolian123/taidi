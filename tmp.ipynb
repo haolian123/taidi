{
 "cells": [
  {
   "cell_type": "code",
   "execution_count": null,
   "metadata": {},
   "outputs": [],
   "source": [
    "#大类\n",
    "month_data_second=data[['month','second_cate_code','ord_qty']].groupby(['month','second_cate_code'],as_index=False).mean()\n",
    "x_second_0=second_cate_code_list\n",
    "x_second_1=second_cate_code_list\n",
    "x_second_2=second_cate_code_list \n",
    "# print(x_second)\n",
    "y_second_0=[0 for i in range(second_cate_len)]\n",
    "y_second_1=[0 for i in range(second_cate_len)]\n",
    "y_second_2=[0 for i in range(second_cate_len)]\n",
    "# y_second_3=[0 for i in range(second_cate_len)]\n",
    "for index,item in month_data_second.iterrows():\n",
    "    boolean=item['month']\n",
    "    cate_code=str(int(item['second_cate_code']))\n",
    "    qty=int(item['ord_qty'])\n",
    "    if(boolean==1):\n",
    "        y_second_0[second_cate_code_dict[cate_code]]=qty\n",
    "    elif(boolean==2):\n",
    "         y_second_1[second_cate_code_dict[cate_code]]=qty\n",
    "    elif(boolean==3):\n",
    "         y_second_2[second_cate_code_dict[cate_code]]=qty\n",
    "    # print(chann,cate_code,qty)\n",
    "    # print(chann)\n",
    "# print(len(x_second_0),len(x_second_1))\n",
    "# print(x_second_0,x_second_1)\n",
    "# print(y_second_0,y_second_1)\n",
    "wid=0.25\n",
    "x=2\n",
    "# plt.bar(x_second_0,y_second_0)\n",
    "# plt.bar(x_second_1,y_second_1)\n",
    "x = np.arange(len(x_second_0))  # x轴刻度标签位置\n",
    "width = 0.2  # 柱子的宽度\n",
    "# 计算每个柱子在x轴上的位置，保证x轴刻度标签居中\n",
    "# x - width/2，x + width/2即每组数据在x轴上的位置\n",
    "plt.bar(x - width*1.5, y_second_0, width, label='月初',color=colors[0])\n",
    "plt.bar(x - width/2, y_second_1, width, label='月中',color=colors[1])\n",
    "plt.bar(x + width/2, y_second_2, width, label='月末',color=colors[2])\n",
    "# plt.bar(x + width*1.5, y_second_3, width, label='冬')\n",
    "plt.xticks(x,x_second_0)\n",
    "plt.ylabel(\"平均需求量\")\n",
    "plt.xlabel(\"产品大类\")\n",
    "plt.title(\"不同产品大类在不同阶段的平均需求量\")\n",
    "plt.legend()\n",
    "plt.show()"
   ]
  }
 ],
 "metadata": {
  "language_info": {
   "name": "python"
  },
  "orig_nbformat": 4
 },
 "nbformat": 4,
 "nbformat_minor": 2
}
