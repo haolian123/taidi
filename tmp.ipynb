{
 "cells": [
  {
   "cell_type": "code",
   "execution_count": null,
   "metadata": {},
   "outputs": [],
   "source": [
    "weekend_data_second=data[['is_weekend','second_cate_code','ord_qty']].groupby(['is_weekend','second_cate_code'],as_index=False).mean()\n",
    "x_second_0=second_cate_code_list\n",
    "x_second_1=second_cate_code_list\n",
    "# print(x_second)\n",
    "y_second_0=[0 for i in range(second_cate_len)]\n",
    "y_second_1=[0 for i in range(second_cate_len)]\n",
    "for index,item in weekend_data_second.iterrows():\n",
    "    boolean=item['is_weekend']\n",
    "    cate_code=str(int(item['second_cate_code']))\n",
    "    qty=int(item['ord_qty'])\n",
    "    if(boolean==0):\n",
    "        y_second_0[second_cate_code_dict[cate_code]]=qty\n",
    "    elif(boolean==1):\n",
    "         y_second_1[second_cate_code_dict[cate_code]]=qty\n",
    "    # print(chann,cate_code,qty)\n",
    "    # print(chann)\n",
    "print(len(x_second_0),len(x_second_1))\n",
    "print(x_second_0,x_second_1)\n",
    "print(y_second_0,y_second_1)\n",
    "wid=0.25\n",
    "x=2\n",
    "# plt.bar(x_second_0,y_second_0)\n",
    "# plt.bar(x_second_1,y_second_1)\n",
    "x = np.arange(len(x_second_0))  # x轴刻度标签位置\n",
    "width = 0.25  # 柱子的宽度\n",
    "# 计算每个柱子在x轴上的位置，保证x轴刻度标签居中\n",
    "# x - width/2，x + width/2即每组数据在x轴上的位置\n",
    "plt.bar(x - width/2, y_second_0, width, label='非周末',color=colors[2])\n",
    "plt.bar(x + width/2, y_second_1, width, label='周末',color=colors[1])\n",
    "plt.xticks(x,x_second_0)\n",
    "plt.ylabel(\"平均需求量\")\n",
    "plt.xlabel(\"产品大类\")\n",
    "plt.title(\"不同产品大类周末和非周末的平均需求量\")\n",
    "plt.legend()\n",
    "plt.show()"
   ]
  }
 ],
 "metadata": {
  "language_info": {
   "name": "python"
  },
  "orig_nbformat": 4
 },
 "nbformat": 4,
 "nbformat_minor": 2
}
